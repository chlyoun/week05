{
 "cells": [
  {
   "cell_type": "code",
   "execution_count": 1,
   "id": "bedd3610-801d-49af-957b-783e70ec5416",
   "metadata": {},
   "outputs": [],
   "source": [
    "import pandas as pd\n",
    "import numpy as np"
   ]
  },
  {
   "cell_type": "code",
   "execution_count": 2,
   "id": "7e2a43c1-443a-4314-a26f-f62e43d9443c",
   "metadata": {},
   "outputs": [
    {
     "name": "stdout",
     "output_type": "stream",
     "text": [
      "<class 'pandas.core.frame.DataFrame'>\n",
      "RangeIndex: 43418 entries, 0 to 43417\n",
      "Data columns (total 83 columns):\n",
      " #   Column           Non-Null Count  Dtype  \n",
      "---  ------           --------------  -----  \n",
      " 0   barrels08        43418 non-null  float64\n",
      " 1   barrelsA08       43418 non-null  float64\n",
      " 2   charge120        43418 non-null  float64\n",
      " 3   charge240        43418 non-null  float64\n",
      " 4   city08           43418 non-null  int64  \n",
      " 5   city08U          43418 non-null  float64\n",
      " 6   cityA08          43418 non-null  int64  \n",
      " 7   cityA08U         43418 non-null  float64\n",
      " 8   cityCD           43418 non-null  float64\n",
      " 9   cityE            43418 non-null  float64\n",
      " 10  cityUF           43418 non-null  float64\n",
      " 11  co2              43418 non-null  int64  \n",
      " 12  co2A             43418 non-null  int64  \n",
      " 13  co2TailpipeAGpm  43418 non-null  float64\n",
      " 14  co2TailpipeGpm   43418 non-null  float64\n",
      " 15  comb08           43418 non-null  int64  \n",
      " 16  comb08U          43418 non-null  float64\n",
      " 17  combA08          43418 non-null  int64  \n",
      " 18  combA08U         43418 non-null  float64\n",
      " 19  combE            43418 non-null  float64\n",
      " 20  combinedCD       43418 non-null  float64\n",
      " 21  combinedUF       43418 non-null  float64\n",
      " 22  cylinders        43139 non-null  float64\n",
      " 23  displ            43141 non-null  float64\n",
      " 24  drive            42232 non-null  object \n",
      " 25  engId            43418 non-null  int64  \n",
      " 26  eng_dscr         26887 non-null  object \n",
      " 27  feScore          43418 non-null  int64  \n",
      " 28  fuelCost08       43418 non-null  int64  \n",
      " 29  fuelCostA08      43418 non-null  int64  \n",
      " 30  fuelType         43418 non-null  object \n",
      " 31  fuelType1        43418 non-null  object \n",
      " 32  ghgScore         43418 non-null  int64  \n",
      " 33  ghgScoreA        43418 non-null  int64  \n",
      " 34  highway08        43418 non-null  int64  \n",
      " 35  highway08U       43418 non-null  float64\n",
      " 36  highwayA08       43418 non-null  int64  \n",
      " 37  highwayA08U      43418 non-null  float64\n",
      " 38  highwayCD        43418 non-null  float64\n",
      " 39  highwayE         43418 non-null  float64\n",
      " 40  highwayUF        43418 non-null  float64\n",
      " 41  hlv              43418 non-null  int64  \n",
      " 42  hpv              43418 non-null  int64  \n",
      " 43  id               43418 non-null  int64  \n",
      " 44  lv2              43418 non-null  int64  \n",
      " 45  lv4              43418 non-null  int64  \n",
      " 46  make             43418 non-null  object \n",
      " 47  model            43418 non-null  object \n",
      " 48  mpgData          43400 non-null  object \n",
      " 49  phevBlended      43418 non-null  bool   \n",
      " 50  pv2              43418 non-null  int64  \n",
      " 51  pv4              43418 non-null  int64  \n",
      " 52  range            43418 non-null  int64  \n",
      " 53  rangeCity        43418 non-null  float64\n",
      " 54  rangeCityA       43418 non-null  float64\n",
      " 55  rangeHwy         43418 non-null  float64\n",
      " 56  rangeHwyA        43418 non-null  float64\n",
      " 57  trany            43407 non-null  object \n",
      " 58  UCity            43418 non-null  float64\n",
      " 59  UCityA           43418 non-null  float64\n",
      " 60  UHighway         43418 non-null  float64\n",
      " 61  UHighwayA        43418 non-null  float64\n",
      " 62  VClass           43418 non-null  object \n",
      " 63  year             43418 non-null  int64  \n",
      " 64  youSaveSpend     43418 non-null  int64  \n",
      " 65  guzzler          2558 non-null   object \n",
      " 66  trans_dscr       15044 non-null  object \n",
      " 67  tCharger         8143 non-null   object \n",
      " 68  sCharger         916 non-null    object \n",
      " 69  atvType          3987 non-null   object \n",
      " 70  fuelType2        1731 non-null   object \n",
      " 71  rangeA           1726 non-null   object \n",
      " 72  evMotor          1221 non-null   object \n",
      " 73  mfrCode          12610 non-null  object \n",
      " 74  c240Dscr         114 non-null    object \n",
      " 75  charge240b       43418 non-null  float64\n",
      " 76  c240bDscr        108 non-null    object \n",
      " 77  createdOn        43418 non-null  object \n",
      " 78  modifiedOn       43418 non-null  object \n",
      " 79  startStop        11729 non-null  object \n",
      " 80  phevCity         43418 non-null  int64  \n",
      " 81  phevHwy          43418 non-null  int64  \n",
      " 82  phevComb         43418 non-null  int64  \n",
      "dtypes: bool(1), float64(32), int64(27), object(23)\n",
      "memory usage: 27.2+ MB\n"
     ]
    },
    {
     "name": "stderr",
     "output_type": "stream",
     "text": [
      "C:\\Users\\chlyo\\anaconda3\\lib\\site-packages\\IPython\\core\\interactiveshell.py:3444: DtypeWarning: Columns (70,71,72,73,74,76,79) have mixed types.Specify dtype option on import or set low_memory=False.\n",
      "  exec(code_obj, self.user_global_ns, self.user_ns)\n"
     ]
    }
   ],
   "source": [
    "fueleco = pd.read_csv('./data/data/vehicles.csv')\n",
    "fueleco\n",
    "\n",
    "fueleco.info()"
   ]
  },
  {
   "cell_type": "code",
   "execution_count": 3,
   "id": "028f5559-f6c9-475a-a378-8d63d877dd9a",
   "metadata": {},
   "outputs": [
    {
     "name": "stderr",
     "output_type": "stream",
     "text": [
      "C:\\Users\\chlyo\\AppData\\Local\\Temp/ipykernel_9204/2537626673.py:3: FutureWarning: Dropping of nuisance columns in DataFrame reductions (with 'numeric_only=None') is deprecated; in a future version this will raise TypeError.  Select only valid columns before calling the reduction.\n",
      "  fueleco.mean().head()\n"
     ]
    },
    {
     "data": {
      "text/plain": [
       "barrels08     17.132865\n",
       "barrelsA08     0.221869\n",
       "charge120      0.000000\n",
       "charge240      0.066276\n",
       "city08        18.654521\n",
       "dtype: float64"
      ]
     },
     "execution_count": 3,
     "metadata": {},
     "output_type": "execute_result"
    }
   ],
   "source": [
    "#평균. 표준편차를 확인해봅시다.\n",
    "\n",
    "fueleco.mean().head()"
   ]
  },
  {
   "cell_type": "code",
   "execution_count": 4,
   "id": "544e8637-7d6f-49b3-8e5b-b311e7504c22",
   "metadata": {},
   "outputs": [
    {
     "name": "stderr",
     "output_type": "stream",
     "text": [
      "C:\\Users\\chlyo\\AppData\\Local\\Temp/ipykernel_9204/1494390994.py:1: FutureWarning: Dropping of nuisance columns in DataFrame reductions (with 'numeric_only=None') is deprecated; in a future version this will raise TypeError.  Select only valid columns before calling the reduction.\n",
      "  fueleco.std().head()\n"
     ]
    },
    {
     "data": {
      "text/plain": [
       "barrels08     4.678481\n",
       "barrelsA08    1.142116\n",
       "charge120     0.000000\n",
       "charge240     0.739613\n",
       "city08        8.750168\n",
       "dtype: float64"
      ]
     },
     "execution_count": 4,
     "metadata": {},
     "output_type": "execute_result"
    }
   ],
   "source": [
    "fueleco.std().head()"
   ]
  },
  {
   "cell_type": "code",
   "execution_count": 5,
   "id": "9e6a9406-8267-4e75-bccb-a06ee171cc41",
   "metadata": {},
   "outputs": [
    {
     "data": {
      "text/html": [
       "<div>\n",
       "<style scoped>\n",
       "    .dataframe tbody tr th:only-of-type {\n",
       "        vertical-align: middle;\n",
       "    }\n",
       "\n",
       "    .dataframe tbody tr th {\n",
       "        vertical-align: top;\n",
       "    }\n",
       "\n",
       "    .dataframe thead th {\n",
       "        text-align: right;\n",
       "    }\n",
       "</style>\n",
       "<table border=\"1\" class=\"dataframe\">\n",
       "  <thead>\n",
       "    <tr style=\"text-align: right;\">\n",
       "      <th></th>\n",
       "      <th>count</th>\n",
       "      <th>mean</th>\n",
       "      <th>std</th>\n",
       "      <th>min</th>\n",
       "      <th>25%</th>\n",
       "      <th>50%</th>\n",
       "      <th>75%</th>\n",
       "      <th>max</th>\n",
       "    </tr>\n",
       "  </thead>\n",
       "  <tbody>\n",
       "    <tr>\n",
       "      <th>barrels08</th>\n",
       "      <td>43418.0</td>\n",
       "      <td>17.132865</td>\n",
       "      <td>4.678481</td>\n",
       "      <td>0.06</td>\n",
       "      <td>14.33087</td>\n",
       "      <td>16.4805</td>\n",
       "      <td>19.388824</td>\n",
       "      <td>47.087143</td>\n",
       "    </tr>\n",
       "    <tr>\n",
       "      <th>barrelsA08</th>\n",
       "      <td>43418.0</td>\n",
       "      <td>0.221869</td>\n",
       "      <td>1.142116</td>\n",
       "      <td>0.00</td>\n",
       "      <td>0.00000</td>\n",
       "      <td>0.0000</td>\n",
       "      <td>0.000000</td>\n",
       "      <td>18.311667</td>\n",
       "    </tr>\n",
       "    <tr>\n",
       "      <th>charge120</th>\n",
       "      <td>43418.0</td>\n",
       "      <td>0.000000</td>\n",
       "      <td>0.000000</td>\n",
       "      <td>0.00</td>\n",
       "      <td>0.00000</td>\n",
       "      <td>0.0000</td>\n",
       "      <td>0.000000</td>\n",
       "      <td>0.000000</td>\n",
       "    </tr>\n",
       "    <tr>\n",
       "      <th>charge240</th>\n",
       "      <td>43418.0</td>\n",
       "      <td>0.066276</td>\n",
       "      <td>0.739613</td>\n",
       "      <td>0.00</td>\n",
       "      <td>0.00000</td>\n",
       "      <td>0.0000</td>\n",
       "      <td>0.000000</td>\n",
       "      <td>15.300000</td>\n",
       "    </tr>\n",
       "    <tr>\n",
       "      <th>city08</th>\n",
       "      <td>43418.0</td>\n",
       "      <td>18.654521</td>\n",
       "      <td>8.750168</td>\n",
       "      <td>6.00</td>\n",
       "      <td>15.00000</td>\n",
       "      <td>17.0000</td>\n",
       "      <td>21.000000</td>\n",
       "      <td>150.000000</td>\n",
       "    </tr>\n",
       "  </tbody>\n",
       "</table>\n",
       "</div>"
      ],
      "text/plain": [
       "              count       mean       std   min       25%      50%        75%  \\\n",
       "barrels08   43418.0  17.132865  4.678481  0.06  14.33087  16.4805  19.388824   \n",
       "barrelsA08  43418.0   0.221869  1.142116  0.00   0.00000   0.0000   0.000000   \n",
       "charge120   43418.0   0.000000  0.000000  0.00   0.00000   0.0000   0.000000   \n",
       "charge240   43418.0   0.066276  0.739613  0.00   0.00000   0.0000   0.000000   \n",
       "city08      43418.0  18.654521  8.750168  6.00  15.00000  17.0000  21.000000   \n",
       "\n",
       "                   max  \n",
       "barrels08    47.087143  \n",
       "barrelsA08   18.311667  \n",
       "charge120     0.000000  \n",
       "charge240    15.300000  \n",
       "city08      150.000000  "
      ]
     },
     "execution_count": 5,
     "metadata": {},
     "output_type": "execute_result"
    }
   ],
   "source": [
    "fueleco.describe().T.head()"
   ]
  },
  {
   "cell_type": "code",
   "execution_count": 6,
   "id": "0967525d-19cf-42bc-be0a-be986b51c077",
   "metadata": {},
   "outputs": [
    {
     "data": {
      "text/html": [
       "<div>\n",
       "<style scoped>\n",
       "    .dataframe tbody tr th:only-of-type {\n",
       "        vertical-align: middle;\n",
       "    }\n",
       "\n",
       "    .dataframe tbody tr th {\n",
       "        vertical-align: top;\n",
       "    }\n",
       "\n",
       "    .dataframe thead th {\n",
       "        text-align: right;\n",
       "    }\n",
       "</style>\n",
       "<table border=\"1\" class=\"dataframe\">\n",
       "  <thead>\n",
       "    <tr style=\"text-align: right;\">\n",
       "      <th></th>\n",
       "      <th>count</th>\n",
       "      <th>unique</th>\n",
       "      <th>top</th>\n",
       "      <th>freq</th>\n",
       "    </tr>\n",
       "  </thead>\n",
       "  <tbody>\n",
       "    <tr>\n",
       "      <th>drive</th>\n",
       "      <td>42232</td>\n",
       "      <td>7</td>\n",
       "      <td>Front-Wheel Drive</td>\n",
       "      <td>14776</td>\n",
       "    </tr>\n",
       "    <tr>\n",
       "      <th>eng_dscr</th>\n",
       "      <td>26887</td>\n",
       "      <td>562</td>\n",
       "      <td>(FFS)</td>\n",
       "      <td>8827</td>\n",
       "    </tr>\n",
       "    <tr>\n",
       "      <th>fuelType</th>\n",
       "      <td>43418</td>\n",
       "      <td>14</td>\n",
       "      <td>Regular</td>\n",
       "      <td>27381</td>\n",
       "    </tr>\n",
       "    <tr>\n",
       "      <th>fuelType1</th>\n",
       "      <td>43418</td>\n",
       "      <td>6</td>\n",
       "      <td>Regular Gasoline</td>\n",
       "      <td>28828</td>\n",
       "    </tr>\n",
       "    <tr>\n",
       "      <th>make</th>\n",
       "      <td>43418</td>\n",
       "      <td>139</td>\n",
       "      <td>Chevrolet</td>\n",
       "      <td>4159</td>\n",
       "    </tr>\n",
       "    <tr>\n",
       "      <th>model</th>\n",
       "      <td>43418</td>\n",
       "      <td>4375</td>\n",
       "      <td>F150 Pickup 2WD</td>\n",
       "      <td>226</td>\n",
       "    </tr>\n",
       "    <tr>\n",
       "      <th>mpgData</th>\n",
       "      <td>43400</td>\n",
       "      <td>2</td>\n",
       "      <td>N</td>\n",
       "      <td>29726</td>\n",
       "    </tr>\n",
       "    <tr>\n",
       "      <th>trany</th>\n",
       "      <td>43407</td>\n",
       "      <td>40</td>\n",
       "      <td>Automatic 4-spd</td>\n",
       "      <td>11048</td>\n",
       "    </tr>\n",
       "    <tr>\n",
       "      <th>VClass</th>\n",
       "      <td>43418</td>\n",
       "      <td>34</td>\n",
       "      <td>Compact Cars</td>\n",
       "      <td>6086</td>\n",
       "    </tr>\n",
       "    <tr>\n",
       "      <th>guzzler</th>\n",
       "      <td>2558</td>\n",
       "      <td>3</td>\n",
       "      <td>G</td>\n",
       "      <td>1579</td>\n",
       "    </tr>\n",
       "    <tr>\n",
       "      <th>trans_dscr</th>\n",
       "      <td>15044</td>\n",
       "      <td>52</td>\n",
       "      <td>CLKUP</td>\n",
       "      <td>7809</td>\n",
       "    </tr>\n",
       "    <tr>\n",
       "      <th>tCharger</th>\n",
       "      <td>8143</td>\n",
       "      <td>1</td>\n",
       "      <td>T</td>\n",
       "      <td>8143</td>\n",
       "    </tr>\n",
       "    <tr>\n",
       "      <th>sCharger</th>\n",
       "      <td>916</td>\n",
       "      <td>1</td>\n",
       "      <td>S</td>\n",
       "      <td>916</td>\n",
       "    </tr>\n",
       "    <tr>\n",
       "      <th>atvType</th>\n",
       "      <td>3987</td>\n",
       "      <td>8</td>\n",
       "      <td>FFV</td>\n",
       "      <td>1479</td>\n",
       "    </tr>\n",
       "    <tr>\n",
       "      <th>fuelType2</th>\n",
       "      <td>1731</td>\n",
       "      <td>4</td>\n",
       "      <td>E85</td>\n",
       "      <td>1479</td>\n",
       "    </tr>\n",
       "    <tr>\n",
       "      <th>rangeA</th>\n",
       "      <td>1726</td>\n",
       "      <td>235</td>\n",
       "      <td>290</td>\n",
       "      <td>74</td>\n",
       "    </tr>\n",
       "    <tr>\n",
       "      <th>evMotor</th>\n",
       "      <td>1221</td>\n",
       "      <td>211</td>\n",
       "      <td>288V Ni-MH</td>\n",
       "      <td>138</td>\n",
       "    </tr>\n",
       "    <tr>\n",
       "      <th>mfrCode</th>\n",
       "      <td>12610</td>\n",
       "      <td>50</td>\n",
       "      <td>GMX</td>\n",
       "      <td>1802</td>\n",
       "    </tr>\n",
       "    <tr>\n",
       "      <th>c240Dscr</th>\n",
       "      <td>114</td>\n",
       "      <td>5</td>\n",
       "      <td>standard charger</td>\n",
       "      <td>103</td>\n",
       "    </tr>\n",
       "    <tr>\n",
       "      <th>c240bDscr</th>\n",
       "      <td>108</td>\n",
       "      <td>7</td>\n",
       "      <td>80 amp dual charger</td>\n",
       "      <td>55</td>\n",
       "    </tr>\n",
       "    <tr>\n",
       "      <th>createdOn</th>\n",
       "      <td>43418</td>\n",
       "      <td>356</td>\n",
       "      <td>Tue Jan 01 00:00:00 EST 2013</td>\n",
       "      <td>34194</td>\n",
       "    </tr>\n",
       "    <tr>\n",
       "      <th>modifiedOn</th>\n",
       "      <td>43418</td>\n",
       "      <td>218</td>\n",
       "      <td>Tue Jan 01 00:00:00 EST 2013</td>\n",
       "      <td>29175</td>\n",
       "    </tr>\n",
       "    <tr>\n",
       "      <th>startStop</th>\n",
       "      <td>11729</td>\n",
       "      <td>2</td>\n",
       "      <td>N</td>\n",
       "      <td>7146</td>\n",
       "    </tr>\n",
       "  </tbody>\n",
       "</table>\n",
       "</div>"
      ],
      "text/plain": [
       "            count unique                           top   freq\n",
       "drive       42232      7             Front-Wheel Drive  14776\n",
       "eng_dscr    26887    562                         (FFS)   8827\n",
       "fuelType    43418     14                       Regular  27381\n",
       "fuelType1   43418      6              Regular Gasoline  28828\n",
       "make        43418    139                     Chevrolet   4159\n",
       "model       43418   4375               F150 Pickup 2WD    226\n",
       "mpgData     43400      2                             N  29726\n",
       "trany       43407     40               Automatic 4-spd  11048\n",
       "VClass      43418     34                  Compact Cars   6086\n",
       "guzzler      2558      3                             G   1579\n",
       "trans_dscr  15044     52                         CLKUP   7809\n",
       "tCharger     8143      1                             T   8143\n",
       "sCharger      916      1                             S    916\n",
       "atvType      3987      8                           FFV   1479\n",
       "fuelType2    1731      4                           E85   1479\n",
       "rangeA       1726    235                           290     74\n",
       "evMotor      1221    211                    288V Ni-MH    138\n",
       "mfrCode     12610     50                           GMX   1802\n",
       "c240Dscr      114      5              standard charger    103\n",
       "c240bDscr     108      7           80 amp dual charger     55\n",
       "createdOn   43418    356  Tue Jan 01 00:00:00 EST 2013  34194\n",
       "modifiedOn  43418    218  Tue Jan 01 00:00:00 EST 2013  29175\n",
       "startStop   11729      2                             N   7146"
      ]
     },
     "execution_count": 6,
     "metadata": {},
     "output_type": "execute_result"
    }
   ],
   "source": [
    "#object 타입은, include 활용\n",
    "fueleco.describe(include=object).T"
   ]
  },
  {
   "cell_type": "code",
   "execution_count": 7,
   "id": "aff79296-9116-40cd-92d5-bcf2930d2a6e",
   "metadata": {},
   "outputs": [
    {
     "data": {
      "text/plain": [
       "float64    32\n",
       "int64      27\n",
       "object     23\n",
       "bool        1\n",
       "dtype: int64"
      ]
     },
     "execution_count": 7,
     "metadata": {},
     "output_type": "execute_result"
    }
   ],
   "source": [
    "fueleco.dtypes.value_counts()"
   ]
  },
  {
   "cell_type": "code",
   "execution_count": 8,
   "id": "3f4b47af-1fc0-47a4-a614-aac083ef152a",
   "metadata": {},
   "outputs": [
    {
     "data": {
      "text/html": [
       "<div>\n",
       "<style scoped>\n",
       "    .dataframe tbody tr th:only-of-type {\n",
       "        vertical-align: middle;\n",
       "    }\n",
       "\n",
       "    .dataframe tbody tr th {\n",
       "        vertical-align: top;\n",
       "    }\n",
       "\n",
       "    .dataframe thead th {\n",
       "        text-align: right;\n",
       "    }\n",
       "</style>\n",
       "<table border=\"1\" class=\"dataframe\">\n",
       "  <thead>\n",
       "    <tr style=\"text-align: right;\">\n",
       "      <th></th>\n",
       "      <th>count</th>\n",
       "      <th>mean</th>\n",
       "      <th>std</th>\n",
       "      <th>min</th>\n",
       "      <th>25%</th>\n",
       "      <th>50%</th>\n",
       "      <th>75%</th>\n",
       "      <th>max</th>\n",
       "    </tr>\n",
       "  </thead>\n",
       "  <tbody>\n",
       "    <tr>\n",
       "      <th>city08</th>\n",
       "      <td>43418.0</td>\n",
       "      <td>18.654521</td>\n",
       "      <td>8.750168</td>\n",
       "      <td>6.0</td>\n",
       "      <td>15.00</td>\n",
       "      <td>17.0</td>\n",
       "      <td>21.00</td>\n",
       "      <td>150.0</td>\n",
       "    </tr>\n",
       "    <tr>\n",
       "      <th>cityA08</th>\n",
       "      <td>43418.0</td>\n",
       "      <td>0.780805</td>\n",
       "      <td>6.050073</td>\n",
       "      <td>0.0</td>\n",
       "      <td>0.00</td>\n",
       "      <td>0.0</td>\n",
       "      <td>0.00</td>\n",
       "      <td>145.0</td>\n",
       "    </tr>\n",
       "    <tr>\n",
       "      <th>co2</th>\n",
       "      <td>43418.0</td>\n",
       "      <td>103.802639</td>\n",
       "      <td>185.336192</td>\n",
       "      <td>-1.0</td>\n",
       "      <td>-1.00</td>\n",
       "      <td>-1.0</td>\n",
       "      <td>228.00</td>\n",
       "      <td>893.0</td>\n",
       "    </tr>\n",
       "    <tr>\n",
       "      <th>co2A</th>\n",
       "      <td>43418.0</td>\n",
       "      <td>5.910291</td>\n",
       "      <td>57.330146</td>\n",
       "      <td>-1.0</td>\n",
       "      <td>-1.00</td>\n",
       "      <td>-1.0</td>\n",
       "      <td>-1.00</td>\n",
       "      <td>713.0</td>\n",
       "    </tr>\n",
       "    <tr>\n",
       "      <th>comb08</th>\n",
       "      <td>43418.0</td>\n",
       "      <td>20.894997</td>\n",
       "      <td>8.401355</td>\n",
       "      <td>7.0</td>\n",
       "      <td>17.00</td>\n",
       "      <td>20.0</td>\n",
       "      <td>23.00</td>\n",
       "      <td>142.0</td>\n",
       "    </tr>\n",
       "    <tr>\n",
       "      <th>combA08</th>\n",
       "      <td>43418.0</td>\n",
       "      <td>0.836888</td>\n",
       "      <td>6.034436</td>\n",
       "      <td>0.0</td>\n",
       "      <td>0.00</td>\n",
       "      <td>0.0</td>\n",
       "      <td>0.00</td>\n",
       "      <td>133.0</td>\n",
       "    </tr>\n",
       "    <tr>\n",
       "      <th>engId</th>\n",
       "      <td>43418.0</td>\n",
       "      <td>7752.441913</td>\n",
       "      <td>16894.286167</td>\n",
       "      <td>0.0</td>\n",
       "      <td>0.00</td>\n",
       "      <td>164.0</td>\n",
       "      <td>4122.00</td>\n",
       "      <td>69102.0</td>\n",
       "    </tr>\n",
       "    <tr>\n",
       "      <th>feScore</th>\n",
       "      <td>43418.0</td>\n",
       "      <td>0.592197</td>\n",
       "      <td>2.843539</td>\n",
       "      <td>-1.0</td>\n",
       "      <td>-1.00</td>\n",
       "      <td>-1.0</td>\n",
       "      <td>2.00</td>\n",
       "      <td>10.0</td>\n",
       "    </tr>\n",
       "    <tr>\n",
       "      <th>fuelCost08</th>\n",
       "      <td>43418.0</td>\n",
       "      <td>2400.533189</td>\n",
       "      <td>671.690218</td>\n",
       "      <td>450.0</td>\n",
       "      <td>1950.00</td>\n",
       "      <td>2400.0</td>\n",
       "      <td>2800.00</td>\n",
       "      <td>7550.0</td>\n",
       "    </tr>\n",
       "    <tr>\n",
       "      <th>fuelCostA08</th>\n",
       "      <td>43418.0</td>\n",
       "      <td>83.403197</td>\n",
       "      <td>442.658866</td>\n",
       "      <td>0.0</td>\n",
       "      <td>0.00</td>\n",
       "      <td>0.0</td>\n",
       "      <td>0.00</td>\n",
       "      <td>3750.0</td>\n",
       "    </tr>\n",
       "    <tr>\n",
       "      <th>ghgScore</th>\n",
       "      <td>43418.0</td>\n",
       "      <td>0.592588</td>\n",
       "      <td>2.847598</td>\n",
       "      <td>-1.0</td>\n",
       "      <td>-1.00</td>\n",
       "      <td>-1.0</td>\n",
       "      <td>2.00</td>\n",
       "      <td>10.0</td>\n",
       "    </tr>\n",
       "    <tr>\n",
       "      <th>ghgScoreA</th>\n",
       "      <td>43418.0</td>\n",
       "      <td>-0.921346</td>\n",
       "      <td>0.654744</td>\n",
       "      <td>-1.0</td>\n",
       "      <td>-1.00</td>\n",
       "      <td>-1.0</td>\n",
       "      <td>-1.00</td>\n",
       "      <td>8.0</td>\n",
       "    </tr>\n",
       "    <tr>\n",
       "      <th>highway08</th>\n",
       "      <td>43418.0</td>\n",
       "      <td>24.770556</td>\n",
       "      <td>8.283938</td>\n",
       "      <td>9.0</td>\n",
       "      <td>20.00</td>\n",
       "      <td>24.0</td>\n",
       "      <td>28.00</td>\n",
       "      <td>133.0</td>\n",
       "    </tr>\n",
       "    <tr>\n",
       "      <th>highwayA08</th>\n",
       "      <td>43418.0</td>\n",
       "      <td>0.936708</td>\n",
       "      <td>6.186028</td>\n",
       "      <td>0.0</td>\n",
       "      <td>0.00</td>\n",
       "      <td>0.0</td>\n",
       "      <td>0.00</td>\n",
       "      <td>121.0</td>\n",
       "    </tr>\n",
       "    <tr>\n",
       "      <th>hlv</th>\n",
       "      <td>43418.0</td>\n",
       "      <td>1.979732</td>\n",
       "      <td>5.912546</td>\n",
       "      <td>0.0</td>\n",
       "      <td>0.00</td>\n",
       "      <td>0.0</td>\n",
       "      <td>0.00</td>\n",
       "      <td>49.0</td>\n",
       "    </tr>\n",
       "    <tr>\n",
       "      <th>hpv</th>\n",
       "      <td>43418.0</td>\n",
       "      <td>10.095329</td>\n",
       "      <td>27.853542</td>\n",
       "      <td>0.0</td>\n",
       "      <td>0.00</td>\n",
       "      <td>0.0</td>\n",
       "      <td>0.00</td>\n",
       "      <td>195.0</td>\n",
       "    </tr>\n",
       "    <tr>\n",
       "      <th>id</th>\n",
       "      <td>43418.0</td>\n",
       "      <td>21847.215579</td>\n",
       "      <td>12676.718530</td>\n",
       "      <td>1.0</td>\n",
       "      <td>10855.25</td>\n",
       "      <td>21713.5</td>\n",
       "      <td>32862.75</td>\n",
       "      <td>43821.0</td>\n",
       "    </tr>\n",
       "    <tr>\n",
       "      <th>lv2</th>\n",
       "      <td>43418.0</td>\n",
       "      <td>1.782602</td>\n",
       "      <td>4.331941</td>\n",
       "      <td>0.0</td>\n",
       "      <td>0.00</td>\n",
       "      <td>0.0</td>\n",
       "      <td>0.00</td>\n",
       "      <td>41.0</td>\n",
       "    </tr>\n",
       "    <tr>\n",
       "      <th>lv4</th>\n",
       "      <td>43418.0</td>\n",
       "      <td>6.039868</td>\n",
       "      <td>9.566007</td>\n",
       "      <td>0.0</td>\n",
       "      <td>0.00</td>\n",
       "      <td>0.0</td>\n",
       "      <td>13.00</td>\n",
       "      <td>55.0</td>\n",
       "    </tr>\n",
       "    <tr>\n",
       "      <th>pv2</th>\n",
       "      <td>43418.0</td>\n",
       "      <td>13.395642</td>\n",
       "      <td>30.946350</td>\n",
       "      <td>0.0</td>\n",
       "      <td>0.00</td>\n",
       "      <td>0.0</td>\n",
       "      <td>0.00</td>\n",
       "      <td>194.0</td>\n",
       "    </tr>\n",
       "    <tr>\n",
       "      <th>pv4</th>\n",
       "      <td>43418.0</td>\n",
       "      <td>33.535884</td>\n",
       "      <td>45.993292</td>\n",
       "      <td>0.0</td>\n",
       "      <td>0.00</td>\n",
       "      <td>0.0</td>\n",
       "      <td>91.00</td>\n",
       "      <td>192.0</td>\n",
       "    </tr>\n",
       "    <tr>\n",
       "      <th>range</th>\n",
       "      <td>43418.0</td>\n",
       "      <td>1.184278</td>\n",
       "      <td>16.726704</td>\n",
       "      <td>0.0</td>\n",
       "      <td>0.00</td>\n",
       "      <td>0.0</td>\n",
       "      <td>0.00</td>\n",
       "      <td>402.0</td>\n",
       "    </tr>\n",
       "    <tr>\n",
       "      <th>year</th>\n",
       "      <td>43418.0</td>\n",
       "      <td>2002.536022</td>\n",
       "      <td>11.650912</td>\n",
       "      <td>1984.0</td>\n",
       "      <td>1992.00</td>\n",
       "      <td>2003.0</td>\n",
       "      <td>2013.00</td>\n",
       "      <td>2022.0</td>\n",
       "    </tr>\n",
       "    <tr>\n",
       "      <th>youSaveSpend</th>\n",
       "      <td>43418.0</td>\n",
       "      <td>-3992.174904</td>\n",
       "      <td>3369.439953</td>\n",
       "      <td>-29750.0</td>\n",
       "      <td>-6000.00</td>\n",
       "      <td>-4000.0</td>\n",
       "      <td>-1750.00</td>\n",
       "      <td>5750.0</td>\n",
       "    </tr>\n",
       "    <tr>\n",
       "      <th>phevCity</th>\n",
       "      <td>43418.0</td>\n",
       "      <td>0.229836</td>\n",
       "      <td>3.526150</td>\n",
       "      <td>0.0</td>\n",
       "      <td>0.00</td>\n",
       "      <td>0.0</td>\n",
       "      <td>0.00</td>\n",
       "      <td>97.0</td>\n",
       "    </tr>\n",
       "    <tr>\n",
       "      <th>phevHwy</th>\n",
       "      <td>43418.0</td>\n",
       "      <td>0.231563</td>\n",
       "      <td>3.405325</td>\n",
       "      <td>0.0</td>\n",
       "      <td>0.00</td>\n",
       "      <td>0.0</td>\n",
       "      <td>0.00</td>\n",
       "      <td>81.0</td>\n",
       "    </tr>\n",
       "    <tr>\n",
       "      <th>phevComb</th>\n",
       "      <td>43418.0</td>\n",
       "      <td>0.229628</td>\n",
       "      <td>3.449732</td>\n",
       "      <td>0.0</td>\n",
       "      <td>0.00</td>\n",
       "      <td>0.0</td>\n",
       "      <td>0.00</td>\n",
       "      <td>88.0</td>\n",
       "    </tr>\n",
       "  </tbody>\n",
       "</table>\n",
       "</div>"
      ],
      "text/plain": [
       "                count          mean           std      min       25%      50%  \\\n",
       "city08        43418.0     18.654521      8.750168      6.0     15.00     17.0   \n",
       "cityA08       43418.0      0.780805      6.050073      0.0      0.00      0.0   \n",
       "co2           43418.0    103.802639    185.336192     -1.0     -1.00     -1.0   \n",
       "co2A          43418.0      5.910291     57.330146     -1.0     -1.00     -1.0   \n",
       "comb08        43418.0     20.894997      8.401355      7.0     17.00     20.0   \n",
       "combA08       43418.0      0.836888      6.034436      0.0      0.00      0.0   \n",
       "engId         43418.0   7752.441913  16894.286167      0.0      0.00    164.0   \n",
       "feScore       43418.0      0.592197      2.843539     -1.0     -1.00     -1.0   \n",
       "fuelCost08    43418.0   2400.533189    671.690218    450.0   1950.00   2400.0   \n",
       "fuelCostA08   43418.0     83.403197    442.658866      0.0      0.00      0.0   \n",
       "ghgScore      43418.0      0.592588      2.847598     -1.0     -1.00     -1.0   \n",
       "ghgScoreA     43418.0     -0.921346      0.654744     -1.0     -1.00     -1.0   \n",
       "highway08     43418.0     24.770556      8.283938      9.0     20.00     24.0   \n",
       "highwayA08    43418.0      0.936708      6.186028      0.0      0.00      0.0   \n",
       "hlv           43418.0      1.979732      5.912546      0.0      0.00      0.0   \n",
       "hpv           43418.0     10.095329     27.853542      0.0      0.00      0.0   \n",
       "id            43418.0  21847.215579  12676.718530      1.0  10855.25  21713.5   \n",
       "lv2           43418.0      1.782602      4.331941      0.0      0.00      0.0   \n",
       "lv4           43418.0      6.039868      9.566007      0.0      0.00      0.0   \n",
       "pv2           43418.0     13.395642     30.946350      0.0      0.00      0.0   \n",
       "pv4           43418.0     33.535884     45.993292      0.0      0.00      0.0   \n",
       "range         43418.0      1.184278     16.726704      0.0      0.00      0.0   \n",
       "year          43418.0   2002.536022     11.650912   1984.0   1992.00   2003.0   \n",
       "youSaveSpend  43418.0  -3992.174904   3369.439953 -29750.0  -6000.00  -4000.0   \n",
       "phevCity      43418.0      0.229836      3.526150      0.0      0.00      0.0   \n",
       "phevHwy       43418.0      0.231563      3.405325      0.0      0.00      0.0   \n",
       "phevComb      43418.0      0.229628      3.449732      0.0      0.00      0.0   \n",
       "\n",
       "                   75%      max  \n",
       "city08           21.00    150.0  \n",
       "cityA08           0.00    145.0  \n",
       "co2             228.00    893.0  \n",
       "co2A             -1.00    713.0  \n",
       "comb08           23.00    142.0  \n",
       "combA08           0.00    133.0  \n",
       "engId          4122.00  69102.0  \n",
       "feScore           2.00     10.0  \n",
       "fuelCost08     2800.00   7550.0  \n",
       "fuelCostA08       0.00   3750.0  \n",
       "ghgScore          2.00     10.0  \n",
       "ghgScoreA        -1.00      8.0  \n",
       "highway08        28.00    133.0  \n",
       "highwayA08        0.00    121.0  \n",
       "hlv               0.00     49.0  \n",
       "hpv               0.00    195.0  \n",
       "id            32862.75  43821.0  \n",
       "lv2               0.00     41.0  \n",
       "lv4              13.00     55.0  \n",
       "pv2               0.00    194.0  \n",
       "pv4              91.00    192.0  \n",
       "range             0.00    402.0  \n",
       "year           2013.00   2022.0  \n",
       "youSaveSpend  -1750.00   5750.0  \n",
       "phevCity          0.00     97.0  \n",
       "phevHwy           0.00     81.0  \n",
       "phevComb          0.00     88.0  "
      ]
     },
     "execution_count": 8,
     "metadata": {},
     "output_type": "execute_result"
    }
   ],
   "source": [
    "fueleco.describe(include=np.int64).T"
   ]
  },
  {
   "cell_type": "code",
   "execution_count": 9,
   "id": "5c49a9e6-dae0-446e-8e63-423eeaa28cd1",
   "metadata": {},
   "outputs": [
    {
     "data": {
      "text/plain": [
       "iinfo(min=-2147483648, max=2147483647, dtype=int32)"
      ]
     },
     "execution_count": 9,
     "metadata": {},
     "output_type": "execute_result"
    }
   ],
   "source": [
    "np.iinfo(np.int32)"
   ]
  },
  {
   "cell_type": "code",
   "execution_count": 10,
   "id": "c6315155-f091-44dc-8602-89073f4033d1",
   "metadata": {},
   "outputs": [
    {
     "data": {
      "text/html": [
       "<div>\n",
       "<style scoped>\n",
       "    .dataframe tbody tr th:only-of-type {\n",
       "        vertical-align: middle;\n",
       "    }\n",
       "\n",
       "    .dataframe tbody tr th {\n",
       "        vertical-align: top;\n",
       "    }\n",
       "\n",
       "    .dataframe thead th {\n",
       "        text-align: right;\n",
       "    }\n",
       "</style>\n",
       "<table border=\"1\" class=\"dataframe\">\n",
       "  <thead>\n",
       "    <tr style=\"text-align: right;\">\n",
       "      <th></th>\n",
       "      <th>city08</th>\n",
       "      <th>comb08</th>\n",
       "    </tr>\n",
       "  </thead>\n",
       "  <tbody>\n",
       "    <tr>\n",
       "      <th>0</th>\n",
       "      <td>19</td>\n",
       "      <td>21</td>\n",
       "    </tr>\n",
       "    <tr>\n",
       "      <th>1</th>\n",
       "      <td>9</td>\n",
       "      <td>11</td>\n",
       "    </tr>\n",
       "    <tr>\n",
       "      <th>2</th>\n",
       "      <td>23</td>\n",
       "      <td>27</td>\n",
       "    </tr>\n",
       "    <tr>\n",
       "      <th>3</th>\n",
       "      <td>10</td>\n",
       "      <td>11</td>\n",
       "    </tr>\n",
       "    <tr>\n",
       "      <th>4</th>\n",
       "      <td>17</td>\n",
       "      <td>19</td>\n",
       "    </tr>\n",
       "    <tr>\n",
       "      <th>...</th>\n",
       "      <td>...</td>\n",
       "      <td>...</td>\n",
       "    </tr>\n",
       "    <tr>\n",
       "      <th>43413</th>\n",
       "      <td>19</td>\n",
       "      <td>22</td>\n",
       "    </tr>\n",
       "    <tr>\n",
       "      <th>43414</th>\n",
       "      <td>20</td>\n",
       "      <td>23</td>\n",
       "    </tr>\n",
       "    <tr>\n",
       "      <th>43415</th>\n",
       "      <td>18</td>\n",
       "      <td>21</td>\n",
       "    </tr>\n",
       "    <tr>\n",
       "      <th>43416</th>\n",
       "      <td>18</td>\n",
       "      <td>21</td>\n",
       "    </tr>\n",
       "    <tr>\n",
       "      <th>43417</th>\n",
       "      <td>16</td>\n",
       "      <td>18</td>\n",
       "    </tr>\n",
       "  </tbody>\n",
       "</table>\n",
       "<p>43418 rows × 2 columns</p>\n",
       "</div>"
      ],
      "text/plain": [
       "       city08  comb08\n",
       "0          19      21\n",
       "1           9      11\n",
       "2          23      27\n",
       "3          10      11\n",
       "4          17      19\n",
       "...       ...     ...\n",
       "43413      19      22\n",
       "43414      20      23\n",
       "43415      18      21\n",
       "43416      18      21\n",
       "43417      16      18\n",
       "\n",
       "[43418 rows x 2 columns]"
      ]
     },
     "execution_count": 10,
     "metadata": {},
     "output_type": "execute_result"
    }
   ],
   "source": [
    "fueleco[['city08','comb08']]"
   ]
  },
  {
   "cell_type": "code",
   "execution_count": 11,
   "id": "db587011-781b-4a12-bce2-a71ff35c8190",
   "metadata": {},
   "outputs": [
    {
     "name": "stdout",
     "output_type": "stream",
     "text": [
      "<class 'pandas.core.frame.DataFrame'>\n",
      "RangeIndex: 43418 entries, 0 to 43417\n",
      "Data columns (total 2 columns):\n",
      " #   Column  Non-Null Count  Dtype\n",
      "---  ------  --------------  -----\n",
      " 0   city08  43418 non-null  int16\n",
      " 1   comb08  43418 non-null  int16\n",
      "dtypes: int16(2)\n",
      "memory usage: 169.7 KB\n"
     ]
    }
   ],
   "source": [
    "(\n",
    "    fueleco[['city08','comb08']]\n",
    "    .assign(city08=fueleco.city08.astype(np.int16),\n",
    "            comb08=fueleco.comb08.astype(np.int16))\n",
    "    .info(memory_usage='deep')\n",
    ")"
   ]
  },
  {
   "cell_type": "code",
   "execution_count": 12,
   "id": "22de3d4c-cd4a-4413-a779-77e3989d88c4",
   "metadata": {},
   "outputs": [
    {
     "data": {
      "text/plain": [
       "139"
      ]
     },
     "execution_count": 12,
     "metadata": {},
     "output_type": "execute_result"
    }
   ],
   "source": [
    "fueleco.make.nunique()"
   ]
  },
  {
   "cell_type": "code",
   "execution_count": 13,
   "id": "b4193ee1-2c1a-4a1a-9e2c-4a032366a95c",
   "metadata": {},
   "outputs": [
    {
     "data": {
      "text/plain": [
       "4375"
      ]
     },
     "execution_count": 13,
     "metadata": {},
     "output_type": "execute_result"
    }
   ],
   "source": [
    "fueleco.model.nunique()"
   ]
  },
  {
   "cell_type": "code",
   "execution_count": 14,
   "id": "fb807ed2-d793-468f-97da-8be483336500",
   "metadata": {},
   "outputs": [
    {
     "data": {
      "text/plain": [
       "2750506"
      ]
     },
     "execution_count": 14,
     "metadata": {},
     "output_type": "execute_result"
    }
   ],
   "source": [
    "fueleco.make.memory_usage(deep=True)"
   ]
  },
  {
   "cell_type": "code",
   "execution_count": 15,
   "id": "aba5de88-4ff1-4162-a35e-c2e4c9fdbb77",
   "metadata": {},
   "outputs": [
    {
     "data": {
      "text/plain": [
       "Index       128\n",
       "make     100495\n",
       "dtype: int64"
      ]
     },
     "execution_count": 15,
     "metadata": {},
     "output_type": "execute_result"
    }
   ],
   "source": [
    "(\n",
    "    fueleco[['make']]\n",
    "             .assign(make=fueleco.make.astype('category'))\n",
    "             .memory_usage(deep=True)\n",
    "             )\n",
    "            "
   ]
  },
  {
   "cell_type": "code",
   "execution_count": 16,
   "id": "e3225562-d555-49b1-8509-529faeaca058",
   "metadata": {},
   "outputs": [
    {
     "data": {
      "text/plain": [
       "2971599"
      ]
     },
     "execution_count": 16,
     "metadata": {},
     "output_type": "execute_result"
    }
   ],
   "source": [
    "fueleco.model.memory_usage(deep=True)"
   ]
  },
  {
   "cell_type": "code",
   "execution_count": 17,
   "id": "7b9c9e13-9ea6-4e67-b487-ed08d2b1c6f1",
   "metadata": {},
   "outputs": [
    {
     "data": {
      "text/plain": [
       "Index        128\n",
       "model    2971471\n",
       "make      100495\n",
       "dtype: int64"
      ]
     },
     "execution_count": 17,
     "metadata": {},
     "output_type": "execute_result"
    }
   ],
   "source": [
    "(\n",
    "    fueleco[['model']]\n",
    "             .assign(make=fueleco.make.astype('category'))\n",
    "             .memory_usage(deep=True)\n",
    "             )\n",
    "        "
   ]
  },
  {
   "cell_type": "code",
   "execution_count": 18,
   "id": "4f3ec5ba-23de-4bd7-8144-8e67131b755b",
   "metadata": {},
   "outputs": [
    {
     "data": {
      "text/plain": [
       "Index(['drive', 'eng_dscr', 'fuelType', 'fuelType1', 'make', 'model',\n",
       "       'mpgData', 'trany', 'VClass', 'guzzler', 'trans_dscr', 'tCharger',\n",
       "       'sCharger', 'atvType', 'fuelType2', 'rangeA', 'evMotor', 'mfrCode',\n",
       "       'c240Dscr', 'c240bDscr', 'createdOn', 'modifiedOn', 'startStop'],\n",
       "      dtype='object')"
      ]
     },
     "execution_count": 18,
     "metadata": {},
     "output_type": "execute_result"
    }
   ],
   "source": [
    "fueleco.select_dtypes(object).columns"
   ]
  },
  {
   "cell_type": "code",
   "execution_count": 19,
   "id": "591706f4-79e0-4396-b695-6a45a05615b6",
   "metadata": {},
   "outputs": [
    {
     "data": {
      "text/plain": [
       "7"
      ]
     },
     "execution_count": 19,
     "metadata": {},
     "output_type": "execute_result"
    }
   ],
   "source": [
    "fueleco.drive.nunique()"
   ]
  },
  {
   "cell_type": "code",
   "execution_count": 20,
   "id": "d542975b-21f5-4768-a5b8-d9f75323884a",
   "metadata": {},
   "outputs": [
    {
     "data": {
      "text/plain": [
       "Front-Wheel Drive             14776\n",
       "Rear-Wheel Drive              14409\n",
       "4-Wheel or All-Wheel Drive     6645\n",
       "All-Wheel Drive                3788\n",
       "4-Wheel Drive                  1788\n",
       "2-Wheel Drive                   507\n",
       "Part-time 4-Wheel Drive         319\n",
       "Name: drive, dtype: int64"
      ]
     },
     "execution_count": 20,
     "metadata": {},
     "output_type": "execute_result"
    }
   ],
   "source": [
    "fueleco.drive.value_counts()"
   ]
  },
  {
   "cell_type": "code",
   "execution_count": 21,
   "id": "5aa529f8-b613-40ed-9d19-48e8aed7735a",
   "metadata": {},
   "outputs": [
    {
     "data": {
      "text/plain": [
       "1186"
      ]
     },
     "execution_count": 21,
     "metadata": {},
     "output_type": "execute_result"
    }
   ],
   "source": [
    "fueleco.drive.isna().sum()"
   ]
  },
  {
   "cell_type": "code",
   "execution_count": 22,
   "id": "2f5dc0b0-54f3-40fa-a688-38d7244f1de8",
   "metadata": {},
   "outputs": [
    {
     "data": {
      "text/plain": [
       "2.7315859781657377"
      ]
     },
     "execution_count": 22,
     "metadata": {},
     "output_type": "execute_result"
    }
   ],
   "source": [
    "#원래 값 대비해서 결측치가 몇 개가 있는지 알기 위해서 mean을 붙입니다.\n",
    "fueleco.drive.isna().mean()*100"
   ]
  },
  {
   "cell_type": "code",
   "execution_count": 23,
   "id": "85e063ee-f6d9-4b7b-b8b5-f124f4f68fbf",
   "metadata": {},
   "outputs": [
    {
     "data": {
      "text/plain": [
       "Front-Wheel Drive             14776\n",
       "Rear-Wheel Drive              14409\n",
       "4-Wheel or All-Wheel Drive     6645\n",
       "All-Wheel Drive                3788\n",
       "4-Wheel Drive                  1788\n",
       "2-Wheel Drive                   507\n",
       "Part-time 4-Wheel Drive         319\n",
       "Name: drive, dtype: int64"
      ]
     },
     "execution_count": 23,
     "metadata": {},
     "output_type": "execute_result"
    }
   ],
   "source": [
    "fueleco.drive.value_counts()"
   ]
  },
  {
   "cell_type": "code",
   "execution_count": 24,
   "id": "e0fe6592-db1b-4485-a5f1-2ac1b3cfecb1",
   "metadata": {},
   "outputs": [
    {
     "data": {
      "text/plain": [
       "<AxesSubplot:>"
      ]
     },
     "execution_count": 24,
     "metadata": {},
     "output_type": "execute_result"
    },
    {
     "data": {
      "image/png": "[encoded data removed]",
      "text/plain": [
       "<Figure size 432x288 with 1 Axes>"
      ]
     },
     "metadata": {
      "needs_background": "light"
     },
     "output_type": "display_data"
    }
   ],
   "source": [
    "fueleco.drive.value_counts().plot(kind='bar')"
   ]
  },
  {
   "cell_type": "code",
   "execution_count": 25,
   "id": "0184f55a-4d88-45d1-80fe-81bbfd85f529",
   "metadata": {},
   "outputs": [
    {
     "data": {
      "text/plain": [
       "<BarContainer object of 7 artists>"
      ]
     },
     "execution_count": 25,
     "metadata": {},
     "output_type": "execute_result"
    },
    {
     "data": {
      "image/png": "[encoded data removed]",
      "text/plain": [
       "<Figure size 720x576 with 1 Axes>"
      ]
     },
     "metadata": {
      "needs_background": "light"
     },
     "output_type": "display_data"
    }
   ],
   "source": [
    "#matplotlib\n",
    "import matplotlib.pyplot as plt\n",
    "\n",
    "fig, ax = plt.subplots(figsize = (10,8))\n",
    "plt.bar(fueleco.drive.value_counts().index, fueleco.drive.value_counts())"
   ]
  },
  {
   "cell_type": "code",
   "execution_count": 26,
   "id": "aa3433d7-ee5f-40eb-95b8-ac662f95f4bf",
   "metadata": {},
   "outputs": [
    {
     "name": "stderr",
     "output_type": "stream",
     "text": [
      "C:\\Users\\chlyo\\anaconda3\\lib\\site-packages\\seaborn\\_decorators.py:36: FutureWarning: Pass the following variables as keyword args: x, y. From version 0.12, the only valid positional argument will be `data`, and passing other arguments without an explicit keyword will result in an error or misinterpretation.\n",
      "  warnings.warn(\n"
     ]
    },
    {
     "data": {
      "text/plain": [
       "<AxesSubplot:ylabel='drive'>"
      ]
     },
     "execution_count": 26,
     "metadata": {},
     "output_type": "execute_result"
    },
    {
     "data": {
      "image/png": "[encoded data removed]",
      "text/plain": [
       "<Figure size 432x288 with 1 Axes>"
      ]
     },
     "metadata": {
      "needs_background": "light"
     },
     "output_type": "display_data"
    }
   ],
   "source": [
    "#seaborn\n",
    "\n",
    "import seaborn as sns\n",
    "\n",
    "sns.barplot(fueleco.drive.value_counts().index, fueleco.drive.value_counts())"
   ]
  },
  {
   "cell_type": "code",
   "execution_count": 27,
   "id": "1242f100-bcbb-4ff4-98bc-7e0dcd46ed23",
   "metadata": {},
   "outputs": [
    {
     "data": {
      "text/plain": [
       "Chevrolet                        4159\n",
       "Ford                             3508\n",
       "Dodge                            2632\n",
       "GMC                              2599\n",
       "Toyota                           2189\n",
       "                                 ... \n",
       "Panos                               1\n",
       "London Taxi                         1\n",
       "ASC Incorporated                    1\n",
       "Fisker                              1\n",
       "Import Foreign Auto Sales Inc       1\n",
       "Name: make, Length: 139, dtype: int64"
      ]
     },
     "execution_count": 27,
     "metadata": {},
     "output_type": "execute_result"
    }
   ],
   "source": [
    " fueleco.make.value_counts()"
   ]
  },
  {
   "cell_type": "code",
   "execution_count": 28,
   "id": "c896c274-225b-4e08-aad8-40eda3ec010c",
   "metadata": {},
   "outputs": [],
   "source": [
    "top_n = fueleco.make.value_counts().index[:6]"
   ]
  },
  {
   "cell_type": "code",
   "execution_count": 29,
   "id": "ff8147b8-3d25-4bd1-9fa3-ed6cd681e6fa",
   "metadata": {},
   "outputs": [
    {
     "data": {
      "text/plain": [
       "Index(['Chevrolet', 'Ford', 'Dodge', 'GMC', 'Toyota', 'BMW'], dtype='object')"
      ]
     },
     "execution_count": 29,
     "metadata": {},
     "output_type": "execute_result"
    }
   ],
   "source": [
    "top_n"
   ]
  },
  {
   "cell_type": "code",
   "execution_count": 30,
   "id": "64bd890a-5df6-47da-92a4-6d5eb48c899b",
   "metadata": {},
   "outputs": [
    {
     "data": {
      "text/plain": [
       "0    0\n",
       "1    0\n",
       "2    0\n",
       "3    4\n",
       "4    5\n",
       "dtype: int64"
      ]
     },
     "execution_count": 30,
     "metadata": {},
     "output_type": "execute_result"
    }
   ],
   "source": [
    "s1 = pd.Series([1,2,3,4,5])\n",
    "\n",
    "s1.where(s1>3,0)"
   ]
  },
  {
   "cell_type": "code",
   "execution_count": 31,
   "id": "09283640-a896-43fc-8663-50ad16d29b23",
   "metadata": {},
   "outputs": [
    {
     "data": {
      "text/plain": [
       "Other        26193\n",
       "Chevrolet     4159\n",
       "Ford          3508\n",
       "Dodge         2632\n",
       "GMC           2599\n",
       "Toyota        2189\n",
       "BMW           2138\n",
       "Name: make, dtype: int64"
      ]
     },
     "execution_count": 31,
     "metadata": {},
     "output_type": "execute_result"
    }
   ],
   "source": [
    "fueleco.make.where(fueleco.make.isin(top_n),'Other').value_counts()\n",
    "#where 는 조건에 맞지 않는 (false가 나오는) 값을 다른 값으로 바꾸는 함수\n",
    "#이런 기법을 masking 이라고 합니다."
   ]
  },
  {
   "cell_type": "code",
   "execution_count": 32,
   "id": "45f7c623-b68d-4684-ba7d-2ee932c1dbf6",
   "metadata": {},
   "outputs": [
    {
     "data": {
      "text/plain": [
       "Other        26193\n",
       "Chevrolet     4159\n",
       "Ford          3508\n",
       "Dodge         2632\n",
       "GMC           2599\n",
       "Toyota        2189\n",
       "BMW           2138\n",
       "Name: make, dtype: int64"
      ]
     },
     "execution_count": 32,
     "metadata": {},
     "output_type": "execute_result"
    }
   ],
   "source": [
    "(\n",
    "    fueleco.assign(make=fueleco.make.where(fueleco.make.isin(top_n),'Other'))\n",
    "    .make.value_counts()\n",
    ")"
   ]
  },
  {
   "cell_type": "code",
   "execution_count": 33,
   "id": "e82ac15a-9f79-4eed-a17c-cf502cc17362",
   "metadata": {},
   "outputs": [
    {
     "data": {
      "text/plain": [
       "<AxesSubplot:>"
      ]
     },
     "execution_count": 33,
     "metadata": {},
     "output_type": "execute_result"
    },
    {
     "data": {
      "image/png": "[encoded data removed]",
      "text/plain": [
       "<Figure size 720x576 with 1 Axes>"
      ]
     },
     "metadata": {
      "needs_background": "light"
     },
     "output_type": "display_data"
    }
   ],
   "source": [
    "import matplotlib.pyplot as plt\n",
    "\n",
    "fig, ax = plt.subplots(figsize = (10,8))\n",
    "top_n = fueleco.make.value_counts().index[:6]\n",
    "(\n",
    "    fueleco.assign(\n",
    "        make=fueleco.make.where(\n",
    "            fueleco.make.isin(top_n),'Other'))\n",
    "    .make.value_counts()[1:]\n",
    "    .plot.bar(ax=ax)\n",
    ")"
   ]
  },
  {
   "cell_type": "code",
   "execution_count": 34,
   "id": "59a568d5-cdb2-4b74-bb5f-91606253bf08",
   "metadata": {},
   "outputs": [
    {
     "data": {
      "text/html": [
       "<div>\n",
       "<style scoped>\n",
       "    .dataframe tbody tr th:only-of-type {\n",
       "        vertical-align: middle;\n",
       "    }\n",
       "\n",
       "    .dataframe tbody tr th {\n",
       "        vertical-align: top;\n",
       "    }\n",
       "\n",
       "    .dataframe thead th {\n",
       "        text-align: right;\n",
       "    }\n",
       "</style>\n",
       "<table border=\"1\" class=\"dataframe\">\n",
       "  <thead>\n",
       "    <tr style=\"text-align: right;\">\n",
       "      <th></th>\n",
       "      <th>count</th>\n",
       "      <th>unique</th>\n",
       "      <th>top</th>\n",
       "      <th>freq</th>\n",
       "    </tr>\n",
       "  </thead>\n",
       "  <tbody>\n",
       "    <tr>\n",
       "      <th>drive</th>\n",
       "      <td>42232</td>\n",
       "      <td>7</td>\n",
       "      <td>Front-Wheel Drive</td>\n",
       "      <td>14776</td>\n",
       "    </tr>\n",
       "    <tr>\n",
       "      <th>eng_dscr</th>\n",
       "      <td>26887</td>\n",
       "      <td>562</td>\n",
       "      <td>(FFS)</td>\n",
       "      <td>8827</td>\n",
       "    </tr>\n",
       "    <tr>\n",
       "      <th>fuelType</th>\n",
       "      <td>43418</td>\n",
       "      <td>14</td>\n",
       "      <td>Regular</td>\n",
       "      <td>27381</td>\n",
       "    </tr>\n",
       "    <tr>\n",
       "      <th>fuelType1</th>\n",
       "      <td>43418</td>\n",
       "      <td>6</td>\n",
       "      <td>Regular Gasoline</td>\n",
       "      <td>28828</td>\n",
       "    </tr>\n",
       "    <tr>\n",
       "      <th>make</th>\n",
       "      <td>43418</td>\n",
       "      <td>139</td>\n",
       "      <td>Chevrolet</td>\n",
       "      <td>4159</td>\n",
       "    </tr>\n",
       "    <tr>\n",
       "      <th>model</th>\n",
       "      <td>43418</td>\n",
       "      <td>4375</td>\n",
       "      <td>F150 Pickup 2WD</td>\n",
       "      <td>226</td>\n",
       "    </tr>\n",
       "    <tr>\n",
       "      <th>mpgData</th>\n",
       "      <td>43400</td>\n",
       "      <td>2</td>\n",
       "      <td>N</td>\n",
       "      <td>29726</td>\n",
       "    </tr>\n",
       "    <tr>\n",
       "      <th>trany</th>\n",
       "      <td>43407</td>\n",
       "      <td>40</td>\n",
       "      <td>Automatic 4-spd</td>\n",
       "      <td>11048</td>\n",
       "    </tr>\n",
       "    <tr>\n",
       "      <th>VClass</th>\n",
       "      <td>43418</td>\n",
       "      <td>34</td>\n",
       "      <td>Compact Cars</td>\n",
       "      <td>6086</td>\n",
       "    </tr>\n",
       "    <tr>\n",
       "      <th>guzzler</th>\n",
       "      <td>2558</td>\n",
       "      <td>3</td>\n",
       "      <td>G</td>\n",
       "      <td>1579</td>\n",
       "    </tr>\n",
       "    <tr>\n",
       "      <th>trans_dscr</th>\n",
       "      <td>15044</td>\n",
       "      <td>52</td>\n",
       "      <td>CLKUP</td>\n",
       "      <td>7809</td>\n",
       "    </tr>\n",
       "    <tr>\n",
       "      <th>tCharger</th>\n",
       "      <td>8143</td>\n",
       "      <td>1</td>\n",
       "      <td>T</td>\n",
       "      <td>8143</td>\n",
       "    </tr>\n",
       "    <tr>\n",
       "      <th>sCharger</th>\n",
       "      <td>916</td>\n",
       "      <td>1</td>\n",
       "      <td>S</td>\n",
       "      <td>916</td>\n",
       "    </tr>\n",
       "    <tr>\n",
       "      <th>atvType</th>\n",
       "      <td>3987</td>\n",
       "      <td>8</td>\n",
       "      <td>FFV</td>\n",
       "      <td>1479</td>\n",
       "    </tr>\n",
       "    <tr>\n",
       "      <th>fuelType2</th>\n",
       "      <td>1731</td>\n",
       "      <td>4</td>\n",
       "      <td>E85</td>\n",
       "      <td>1479</td>\n",
       "    </tr>\n",
       "    <tr>\n",
       "      <th>rangeA</th>\n",
       "      <td>1726</td>\n",
       "      <td>235</td>\n",
       "      <td>290</td>\n",
       "      <td>74</td>\n",
       "    </tr>\n",
       "    <tr>\n",
       "      <th>evMotor</th>\n",
       "      <td>1221</td>\n",
       "      <td>211</td>\n",
       "      <td>288V Ni-MH</td>\n",
       "      <td>138</td>\n",
       "    </tr>\n",
       "    <tr>\n",
       "      <th>mfrCode</th>\n",
       "      <td>12610</td>\n",
       "      <td>50</td>\n",
       "      <td>GMX</td>\n",
       "      <td>1802</td>\n",
       "    </tr>\n",
       "    <tr>\n",
       "      <th>c240Dscr</th>\n",
       "      <td>114</td>\n",
       "      <td>5</td>\n",
       "      <td>standard charger</td>\n",
       "      <td>103</td>\n",
       "    </tr>\n",
       "    <tr>\n",
       "      <th>c240bDscr</th>\n",
       "      <td>108</td>\n",
       "      <td>7</td>\n",
       "      <td>80 amp dual charger</td>\n",
       "      <td>55</td>\n",
       "    </tr>\n",
       "    <tr>\n",
       "      <th>createdOn</th>\n",
       "      <td>43418</td>\n",
       "      <td>356</td>\n",
       "      <td>Tue Jan 01 00:00:00 EST 2013</td>\n",
       "      <td>34194</td>\n",
       "    </tr>\n",
       "    <tr>\n",
       "      <th>modifiedOn</th>\n",
       "      <td>43418</td>\n",
       "      <td>218</td>\n",
       "      <td>Tue Jan 01 00:00:00 EST 2013</td>\n",
       "      <td>29175</td>\n",
       "    </tr>\n",
       "    <tr>\n",
       "      <th>startStop</th>\n",
       "      <td>11729</td>\n",
       "      <td>2</td>\n",
       "      <td>N</td>\n",
       "      <td>7146</td>\n",
       "    </tr>\n",
       "  </tbody>\n",
       "</table>\n",
       "</div>"
      ],
      "text/plain": [
       "            count unique                           top   freq\n",
       "drive       42232      7             Front-Wheel Drive  14776\n",
       "eng_dscr    26887    562                         (FFS)   8827\n",
       "fuelType    43418     14                       Regular  27381\n",
       "fuelType1   43418      6              Regular Gasoline  28828\n",
       "make        43418    139                     Chevrolet   4159\n",
       "model       43418   4375               F150 Pickup 2WD    226\n",
       "mpgData     43400      2                             N  29726\n",
       "trany       43407     40               Automatic 4-spd  11048\n",
       "VClass      43418     34                  Compact Cars   6086\n",
       "guzzler      2558      3                             G   1579\n",
       "trans_dscr  15044     52                         CLKUP   7809\n",
       "tCharger     8143      1                             T   8143\n",
       "sCharger      916      1                             S    916\n",
       "atvType      3987      8                           FFV   1479\n",
       "fuelType2    1731      4                           E85   1479\n",
       "rangeA       1726    235                           290     74\n",
       "evMotor      1221    211                    288V Ni-MH    138\n",
       "mfrCode     12610     50                           GMX   1802\n",
       "c240Dscr      114      5              standard charger    103\n",
       "c240bDscr     108      7           80 amp dual charger     55\n",
       "createdOn   43418    356  Tue Jan 01 00:00:00 EST 2013  34194\n",
       "modifiedOn  43418    218  Tue Jan 01 00:00:00 EST 2013  29175\n",
       "startStop   11729      2                             N   7146"
      ]
     },
     "execution_count": 34,
     "metadata": {},
     "output_type": "execute_result"
    }
   ],
   "source": [
    "fueleco.select_dtypes('object').describe().T"
   ]
  },
  {
   "cell_type": "code",
   "execution_count": 36,
   "id": "46059999-1925-422c-9493-6a3f8d8f6e98",
   "metadata": {},
   "outputs": [
    {
     "data": {
      "text/plain": [
       "Regular Gasoline     28828\n",
       "Premium Gasoline     12921\n",
       "Diesel                1203\n",
       "Electricity            276\n",
       "Midgrade Gasoline      130\n",
       "Natural Gas             60\n",
       "Name: fuelType1, dtype: int64"
      ]
     },
     "execution_count": 36,
     "metadata": {},
     "output_type": "execute_result"
    }
   ],
   "source": [
    "fueleco.fuelType1.value_counts()"
   ]
  },
  {
   "cell_type": "code",
   "execution_count": 39,
   "id": "aca48719-4bf2-43f9-9ae8-9ed383c51f9a",
   "metadata": {},
   "outputs": [
    {
     "data": {
      "text/plain": [
       "<AxesSubplot:xlabel='count', ylabel='fuelType1'>"
      ]
     },
     "execution_count": 39,
     "metadata": {},
     "output_type": "execute_result"
    },
    {
     "data": {
      "image/png": "[encoded data removed]",
      "text/plain": [
       "<Figure size 720x576 with 1 Axes>"
      ]
     },
     "metadata": {
      "needs_background": "light"
     },
     "output_type": "display_data"
    }
   ],
   "source": [
    "fig,ax = plt.subplots(figsize=(10,8))\n",
    "sns.countplot(y='fuelType1',data=(fueleco),order=fueleco.fuelType1.value_counts().index)"
   ]
  },
  {
   "cell_type": "code",
   "execution_count": 40,
   "id": "f949f7df-6f25-4346-abb2-7317a6765244",
   "metadata": {},
   "outputs": [
    {
     "data": {
      "text/plain": [
       "Chevrolet    4159\n",
       "Ford         3508\n",
       "Dodge        2632\n",
       "GMC          2599\n",
       "Toyota       2189\n",
       "Name: make, dtype: int64"
      ]
     },
     "execution_count": 40,
     "metadata": {},
     "output_type": "execute_result"
    }
   ],
   "source": [
    "fueleco.make.value_counts().head()"
   ]
  },
  {
   "cell_type": "code",
   "execution_count": 43,
   "id": "17c473df-ea0b-462b-a579-581bb872b089",
   "metadata": {},
   "outputs": [
    {
     "data": {
      "text/plain": [
       "<AxesSubplot:xlabel='count', ylabel='make'>"
      ]
     },
     "execution_count": 43,
     "metadata": {},
     "output_type": "execute_result"
    },
    {
     "data": {
      "image/png": "[encoded data removed]",
      "text/plain": [
       "<Figure size 720x576 with 1 Axes>"
      ]
     },
     "metadata": {
      "needs_background": "light"
     },
     "output_type": "display_data"
    }
   ],
   "source": [
    "import seaborn as sns\n",
    "fig,ax = plt.subplots(figsize=(10,8))\n",
    "top_n = fueleco.make.value_counts().index[:6]\n",
    "sns.countplot(y='make',\n",
    "              data=(fueleco[fueleco.make.isin(top_n)])\n",
    "              ,hue='fuelType1', order=fueleco.make.value_counts().index[:6]\n",
    "            #, dodge = False\n",
    "             )\n"
   ]
  },
  {
   "cell_type": "code",
   "execution_count": 44,
   "id": "cc228378-a131-44db-b5ac-72b9c9b4dcce",
   "metadata": {},
   "outputs": [
    {
     "data": {
      "text/plain": [
       "<AxesSubplot:xlabel='city08', ylabel='Count'>"
      ]
     },
     "execution_count": 44,
     "metadata": {},
     "output_type": "execute_result"
    },
    {
     "data": {
      "image/png": "[encoded data removed]",
      "text/plain": [
       "<Figure size 720x576 with 1 Axes>"
      ]
     },
     "metadata": {
      "needs_background": "light"
     },
     "output_type": "display_data"
    }
   ],
   "source": [
    "fig,ax = plt.subplots(figsize=(10,8))\n",
    "top_n = fueleco.make.value_counts().index[:3]\n",
    "sns.histplot(x= 'city08',\n",
    "             data=(fueleco[fueleco.make.isin(top_n)]),hue='make',binwidth=2,\n",
    "             ax=ax\n",
    "            )"
   ]
  },
  {
   "cell_type": "code",
   "execution_count": 46,
   "id": "ab375a4f-827f-4b22-a839-7b0301a22731",
   "metadata": {},
   "outputs": [
    {
     "data": {
      "text/plain": [
       "1186"
      ]
     },
     "execution_count": 46,
     "metadata": {},
     "output_type": "execute_result"
    }
   ],
   "source": [
    "#make 는 na 값이 없지만, 많은 경우 na 값을 가진 컬럼을 다루게 될겁니다.\n",
    "# dirve를 볼까요 \n",
    "fueleco.drive.isna().sum()"
   ]
  },
  {
   "cell_type": "code",
   "execution_count": 48,
   "id": "d205a83a-3957-4f1b-8600-86799555342f",
   "metadata": {},
   "outputs": [
    {
     "data": {
      "text/plain": [
       "<AxesSubplot:>"
      ]
     },
     "execution_count": 48,
     "metadata": {},
     "output_type": "execute_result"
    },
    {
     "data": {
      "image/png": "[encoded data removed]",
      "text/plain": [
       "<Figure size 432x288 with 1 Axes>"
      ]
     },
     "metadata": {
      "needs_background": "light"
     },
     "output_type": "display_data"
    }
   ],
   "source": [
    "#간단한 플롯인 경우, plt 나 sns 를 사용하지않고, pandas의 plot을 사용합니다.\n",
    "fueleco.drive.value_counts(dropna=False).plot(kind='bar')"
   ]
  },
  {
   "cell_type": "code",
   "execution_count": 49,
   "id": "fc3d47d2-3ae0-4bf8-9b2b-50d59a959752",
   "metadata": {},
   "outputs": [
    {
     "data": {
      "text/plain": [
       "NaN        41692\n",
       "290           74\n",
       "270           58\n",
       "280           56\n",
       "310           41\n",
       "           ...  \n",
       "362/537        1\n",
       "337/501        1\n",
       "286            1\n",
       "341            1\n",
       "301            1\n",
       "Name: rangeA, Length: 236, dtype: int64"
      ]
     },
     "execution_count": 49,
     "metadata": {},
     "output_type": "execute_result"
    }
   ],
   "source": [
    "fueleco.rangeA.value_counts(dropna=False)"
   ]
  },
  {
   "cell_type": "code",
   "execution_count": 50,
   "id": "af0b50f4-e308-43aa-8e8f-4357607e858e",
   "metadata": {},
   "outputs": [
    {
     "data": {
      "text/plain": [
       "/    323\n",
       "-     71\n",
       "dtype: int64"
      ]
     },
     "execution_count": 50,
     "metadata": {},
     "output_type": "execute_result"
    }
   ],
   "source": [
    "(#^는 not의 의미입니다. 그러니까 숫자와 . 을 뺀 문자가 있으면 보여줘! 란 거죠\n",
    "fueleco.rangeA.str.extract(r'([^0-9.])')\n",
    "    .dropna().value_counts()\n",
    ")"
   ]
  },
  {
   "cell_type": "code",
   "execution_count": 51,
   "id": "5b7c4138-cd8e-48a0-b6d3-61e3bbd3def1",
   "metadata": {},
   "outputs": [
    {
     "data": {
      "text/plain": [
       "{float, str}"
      ]
     },
     "execution_count": 51,
     "metadata": {},
     "output_type": "execute_result"
    }
   ],
   "source": [
    "set(fueleco.rangeA.apply(type))"
   ]
  },
  {
   "cell_type": "code",
   "execution_count": 52,
   "id": "89b0d00c-e846-493c-8574-be7fba5264f1",
   "metadata": {},
   "outputs": [
    {
     "data": {
      "text/html": [
       "<div>\n",
       "<style scoped>\n",
       "    .dataframe tbody tr th:only-of-type {\n",
       "        vertical-align: middle;\n",
       "    }\n",
       "\n",
       "    .dataframe tbody tr th {\n",
       "        vertical-align: top;\n",
       "    }\n",
       "\n",
       "    .dataframe thead th {\n",
       "        text-align: right;\n",
       "    }\n",
       "</style>\n",
       "<table border=\"1\" class=\"dataframe\">\n",
       "  <thead>\n",
       "    <tr style=\"text-align: right;\">\n",
       "      <th></th>\n",
       "      <th>0</th>\n",
       "      <th>1</th>\n",
       "      <th>2</th>\n",
       "    </tr>\n",
       "  </thead>\n",
       "  <tbody>\n",
       "    <tr>\n",
       "      <th>0</th>\n",
       "      <td>0</td>\n",
       "      <td>None</td>\n",
       "      <td>None</td>\n",
       "    </tr>\n",
       "    <tr>\n",
       "      <th>1</th>\n",
       "      <td>0</td>\n",
       "      <td>None</td>\n",
       "      <td>None</td>\n",
       "    </tr>\n",
       "    <tr>\n",
       "      <th>2</th>\n",
       "      <td>0</td>\n",
       "      <td>None</td>\n",
       "      <td>None</td>\n",
       "    </tr>\n",
       "    <tr>\n",
       "      <th>3</th>\n",
       "      <td>0</td>\n",
       "      <td>None</td>\n",
       "      <td>None</td>\n",
       "    </tr>\n",
       "    <tr>\n",
       "      <th>4</th>\n",
       "      <td>0</td>\n",
       "      <td>None</td>\n",
       "      <td>None</td>\n",
       "    </tr>\n",
       "    <tr>\n",
       "      <th>...</th>\n",
       "      <td>...</td>\n",
       "      <td>...</td>\n",
       "      <td>...</td>\n",
       "    </tr>\n",
       "    <tr>\n",
       "      <th>43413</th>\n",
       "      <td>0</td>\n",
       "      <td>None</td>\n",
       "      <td>None</td>\n",
       "    </tr>\n",
       "    <tr>\n",
       "      <th>43414</th>\n",
       "      <td>0</td>\n",
       "      <td>None</td>\n",
       "      <td>None</td>\n",
       "    </tr>\n",
       "    <tr>\n",
       "      <th>43415</th>\n",
       "      <td>0</td>\n",
       "      <td>None</td>\n",
       "      <td>None</td>\n",
       "    </tr>\n",
       "    <tr>\n",
       "      <th>43416</th>\n",
       "      <td>0</td>\n",
       "      <td>None</td>\n",
       "      <td>None</td>\n",
       "    </tr>\n",
       "    <tr>\n",
       "      <th>43417</th>\n",
       "      <td>0</td>\n",
       "      <td>None</td>\n",
       "      <td>None</td>\n",
       "    </tr>\n",
       "  </tbody>\n",
       "</table>\n",
       "<p>43418 rows × 3 columns</p>\n",
       "</div>"
      ],
      "text/plain": [
       "       0     1     2\n",
       "0      0  None  None\n",
       "1      0  None  None\n",
       "2      0  None  None\n",
       "3      0  None  None\n",
       "4      0  None  None\n",
       "...   ..   ...   ...\n",
       "43413  0  None  None\n",
       "43414  0  None  None\n",
       "43415  0  None  None\n",
       "43416  0  None  None\n",
       "43417  0  None  None\n",
       "\n",
       "[43418 rows x 3 columns]"
      ]
     },
     "execution_count": 52,
     "metadata": {},
     "output_type": "execute_result"
    }
   ],
   "source": [
    "(\n",
    "    fueleco.rangeA.fillna('0')\n",
    "    .str.replace('-','/')\n",
    "    .str.split('/',expand=True)\n",
    ")"
   ]
  },
  {
   "cell_type": "code",
   "execution_count": 53,
   "id": "6b829cfb-ec13-4d91-98a6-21b7a75dd853",
   "metadata": {},
   "outputs": [
    {
     "data": {
      "text/plain": [
       "0        0.0\n",
       "1        0.0\n",
       "2        0.0\n",
       "3        0.0\n",
       "4        0.0\n",
       "        ... \n",
       "43413    0.0\n",
       "43414    0.0\n",
       "43415    0.0\n",
       "43416    0.0\n",
       "43417    0.0\n",
       "Length: 43418, dtype: float64"
      ]
     },
     "execution_count": 53,
     "metadata": {},
     "output_type": "execute_result"
    }
   ],
   "source": [
    "(\n",
    "    fueleco.rangeA.fillna('0')\n",
    "    .str.replace('-','/')\n",
    "    .str.split('/',expand=True)\n",
    "    .astype(float)\n",
    "    .mean(axis=1)\n",
    ")"
   ]
  },
  {
   "cell_type": "code",
   "execution_count": 54,
   "id": "c5e988b2-e542-43ca-ba51-c03ed1478ca8",
   "metadata": {},
   "outputs": [
    {
     "data": {
      "text/plain": [
       "(-0.45, 44.95]     41889\n",
       "(269.7, 314.65]      600\n",
       "(314.65, 359.6]      379\n",
       "(359.6, 404.55]      216\n",
       "(224.75, 269.7]      187\n",
       "(404.55, 449.5]       92\n",
       "(89.9, 134.85]        21\n",
       "(44.95, 89.9]         20\n",
       "(179.8, 224.75]        9\n",
       "(134.85, 179.8]        5\n",
       "dtype: int64"
      ]
     },
     "execution_count": 54,
     "metadata": {},
     "output_type": "execute_result"
    }
   ],
   "source": [
    "(\n",
    "    fueleco.rangeA.fillna('0')\n",
    "    .str.replace('-','/')\n",
    "    .str.split('/',expand=True)\n",
    "    .astype(float)\n",
    "    .mean(axis=1)\n",
    "    .pipe(lambda ser_:pd.cut(ser_,10))\n",
    "    .value_counts()\n",
    ")"
   ]
  },
  {
   "cell_type": "code",
   "execution_count": 57,
   "id": "a22ec3a8-e346-4f27-9441-e69334f64a97",
   "metadata": {},
   "outputs": [
    {
     "ename": "SyntaxError",
     "evalue": "expression cannot contain assignment, perhaps you meant \"==\"? (Temp/ipykernel_9204/4175217880.py, line 3)",
     "output_type": "error",
     "traceback": [
      "\u001b[1;36m  File \u001b[1;32m\"C:\\Users\\chlyo\\AppData\\Local\\Temp/ipykernel_9204/4175217880.py\"\u001b[1;36m, line \u001b[1;32m3\u001b[0m\n\u001b[1;33m    lambda ser:pd.qcut(ser.q=10)\u001b[0m\n\u001b[1;37m                       ^\u001b[0m\n\u001b[1;31mSyntaxError\u001b[0m\u001b[1;31m:\u001b[0m expression cannot contain assignment, perhaps you meant \"==\"?\n"
     ]
    }
   ],
   "source": [
    "(\n",
    "    fueleco.city08.pipe(\n",
    "        lambda ser:pd.qcut(ser.q=10)\n",
    "    ).value_counts()\n",
    "    .sort_index()\n",
    "    .plot.bar()\n",
    ")"
   ]
  },
  {
   "cell_type": "code",
   "execution_count": 58,
   "id": "18a4e7a6-e247-4c29-8ba6-3f4340641d93",
   "metadata": {},
   "outputs": [
    {
     "data": {
      "text/plain": [
       "0        19\n",
       "1         9\n",
       "2        23\n",
       "3        10\n",
       "4        17\n",
       "         ..\n",
       "43413    19\n",
       "43414    20\n",
       "43415    18\n",
       "43416    18\n",
       "43417    16\n",
       "Name: city08, Length: 43418, dtype: int64"
      ]
     },
     "execution_count": 58,
     "metadata": {},
     "output_type": "execute_result"
    }
   ],
   "source": [
    "fueleco.city08"
   ]
  },
  {
   "cell_type": "code",
   "execution_count": 59,
   "id": "48d45fb7-2deb-4e91-b4e0-ad9f842e7c39",
   "metadata": {},
   "outputs": [
    {
     "data": {
      "text/plain": [
       "15     4679\n",
       "18     4197\n",
       "17     4184\n",
       "16     4128\n",
       "19     3188\n",
       "       ... \n",
       "125       1\n",
       "59        1\n",
       "107       1\n",
       "60        1\n",
       "71        1\n",
       "Name: city08, Length: 122, dtype: int64"
      ]
     },
     "execution_count": 59,
     "metadata": {},
     "output_type": "execute_result"
    }
   ],
   "source": [
    "fueleco.city08.value_counts()"
   ]
  },
  {
   "cell_type": "code",
   "execution_count": 60,
   "id": "24bec18d-f6f1-45ae-81b1-61d351272e97",
   "metadata": {},
   "outputs": [
    {
     "data": {
      "text/plain": [
       "count    43418.000000\n",
       "mean        18.654521\n",
       "std          8.750168\n",
       "min          6.000000\n",
       "25%         15.000000\n",
       "50%         17.000000\n",
       "75%         21.000000\n",
       "max        150.000000\n",
       "Name: city08, dtype: float64"
      ]
     },
     "execution_count": 60,
     "metadata": {},
     "output_type": "execute_result"
    }
   ],
   "source": [
    "fueleco.city08.describe()"
   ]
  },
  {
   "cell_type": "code",
   "execution_count": 61,
   "id": "2f8d511c-21b3-4897-adc1-45ecd331dd4a",
   "metadata": {},
   "outputs": [
    {
     "data": {
      "text/plain": [
       "0"
      ]
     },
     "execution_count": 61,
     "metadata": {},
     "output_type": "execute_result"
    }
   ],
   "source": [
    "fueleco.city08.isna().sum()"
   ]
  },
  {
   "cell_type": "code",
   "execution_count": 63,
   "id": "aa91278b-9344-4b13-9c5c-6f6aabd6378d",
   "metadata": {},
   "outputs": [
    {
     "data": {
      "text/plain": [
       "<AxesSubplot:>"
      ]
     },
     "execution_count": 63,
     "metadata": {},
     "output_type": "execute_result"
    },
    {
     "data": {
      "image/png": "[encoded data removed]",
      "text/plain": [
       "<Figure size 720x576 with 1 Axes>"
      ]
     },
     "metadata": {
      "needs_background": "light"
     },
     "output_type": "display_data"
    }
   ],
   "source": [
    "import matplotlib.pyplot as plt\n",
    "\n",
    "fig, ax = plt.subplots(figsize = (10,8))\n",
    "fueleco.city08.hist(ax=ax)"
   ]
  },
  {
   "cell_type": "code",
   "execution_count": 64,
   "id": "a48f364a-094f-4792-aff3-23f985678d5a",
   "metadata": {},
   "outputs": [
    {
     "data": {
      "text/plain": [
       "<AxesSubplot:>"
      ]
     },
     "execution_count": 64,
     "metadata": {},
     "output_type": "execute_result"
    },
    {
     "data": {
      "image/png": "[encoded data removed]",
      "text/plain": [
       "<Figure size 720x576 with 1 Axes>"
      ]
     },
     "metadata": {
      "needs_background": "light"
     },
     "output_type": "display_data"
    }
   ],
   "source": [
    "fig, ax = plt.subplots(figsize = (10,8))\n",
    "fueleco.city08.hist(ax=ax,bins=100)"
   ]
  },
  {
   "cell_type": "code",
   "execution_count": 66,
   "id": "30b83468-9397-4724-91ad-c3b380cb0bda",
   "metadata": {},
   "outputs": [
    {
     "data": {
      "text/plain": [
       "<AxesSubplot:>"
      ]
     },
     "execution_count": 66,
     "metadata": {},
     "output_type": "execute_result"
    },
    {
     "data": {
      "image/png": "[encoded data removed]",
      "text/plain": [
       "<Figure size 432x288 with 1 Axes>"
      ]
     },
     "metadata": {
      "needs_background": "light"
     },
     "output_type": "display_data"
    }
   ],
   "source": [
    "fueleco.city08.hist(bins=30)"
   ]
  },
  {
   "cell_type": "code",
   "execution_count": null,
   "id": "12d9e1e1-5441-4227-a520-641d51ac57dc",
   "metadata": {},
   "outputs": [],
   "source": [
    "fig, ax = plt.subplots(figsize = (10,8))\n",
    "sns.histplot(data=fueleco, y ='city08', hue = 'make', ax= ax, binwidth=1)"
   ]
  },
  {
   "cell_type": "code",
   "execution_count": null,
   "id": "0a58741e-f634-4551-8a1d-524093acb7c2",
   "metadata": {},
   "outputs": [],
   "source": [
    "fueleco.make"
   ]
  },
  {
   "cell_type": "code",
   "execution_count": null,
   "id": "2b8aebc0-85e9-45a6-b2ef-c28ab585e787",
   "metadata": {},
   "outputs": [],
   "source": [
    "fig, ax = plt.subplots(nrows=3, figsize = (10,8))\n",
    "sns."
   ]
  }
 ],
 "metadata": {
  "kernelspec": {
   "display_name": "Python 3 (ipykernel)",
   "language": "python",
   "name": "python3"
  },
  "language_info": {
   "codemirror_mode": {
    "name": "ipython",
    "version": 3
   },
   "file_extension": ".py",
   "mimetype": "text/x-python",
   "name": "python",
   "nbconvert_exporter": "python",
   "pygments_lexer": "ipython3",
   "version": "3.9.7"
  }
 },
 "nbformat": 4,
 "nbformat_minor": 5
}
